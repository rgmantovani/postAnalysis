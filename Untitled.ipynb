{
 "cells": [
  {
   "cell_type": "code",
   "execution_count": 1,
   "metadata": {
    "collapsed": false
   },
   "outputs": [
    {
     "name": "stdout",
     "output_type": "stream",
     "text": [
      "\n",
      "  There is a binary version available but the source version is later:\n",
      "    binary source needs_compilation\n",
      "mlr    2.8    2.9              TRUE\n",
      "\n"
     ]
    },
    {
     "name": "stderr",
     "output_type": "stream",
     "text": [
      "installing the source package 'mlr'\n",
      "\n"
     ]
    }
   ],
   "source": [
    "install.packages(pkg = c(\"mlr\"))"
   ]
  },
  {
   "cell_type": "code",
   "execution_count": 2,
   "metadata": {
    "collapsed": false
   },
   "outputs": [
    {
     "name": "stderr",
     "output_type": "stream",
     "text": [
      "Downloading GitHub repo openml/r@283e68542fa13cf58ebb2051bb2a75e1a043e1b2\n",
      "from URL https://api.github.com/repos/openml/r/zipball/283e68542fa13cf58ebb2051bb2a75e1a043e1b2\n",
      "Installing OpenML\n",
      "'/Library/Frameworks/R.framework/Resources/bin/R' --no-site-file --no-environ  \\\n",
      "  --no-save --no-restore --quiet CMD INSTALL  \\\n",
      "  '/private/var/folders/rj/nq8s_gvj79sc5s0rhhysgs100000gn/T/RtmpVvbgK6/devtools4d941f84a395/openml-openml-r-283e685'  \\\n",
      "  --library='/Library/Frameworks/R.framework/Versions/3.3/Resources/library'  \\\n",
      "  --install-tests \n",
      "\n"
     ]
    }
   ],
   "source": [
    "devtools::install_github(\"openml/r\", ref = \"283e68542fa13cf58ebb2051bb2a75e1a043e1b2\")"
   ]
  },
  {
   "cell_type": "code",
   "execution_count": 2,
   "metadata": {
    "collapsed": false
   },
   "outputs": [],
   "source": [
    "library(\"mlr\")\n",
    "library(\"OpenML\")"
   ]
  },
  {
   "cell_type": "code",
   "execution_count": 4,
   "metadata": {
    "collapsed": false
   },
   "outputs": [
    {
     "data": {
      "text/plain": [
       "\n",
       "OpenML Task 59 :: (Data ID = 61)\n",
       "  Task Type            : Supervised Classification\n",
       "  Data Set             : iris :: (Version = 1, OpenML ID = 61)\n",
       "  Target Feature(s)    : class\n",
       "  Tags                 : basic, study_1, study_7, under100k, under1m\n",
       "  Estimation Procedure : Stratified crossvalidation (1 x 10 folds)\n",
       "  Evaluation Measure(s): predictive_accuracy"
      ]
     },
     "metadata": {},
     "output_type": "display_data"
    }
   ],
   "source": [
    "task = getOMLTask(59)\n",
    "task"
   ]
  },
  {
   "cell_type": "code",
   "execution_count": 12,
   "metadata": {
    "collapsed": false
   },
   "outputs": [
    {
     "data": {
      "text/plain": [
       "\n",
       "Flow \"classif.J48\" :: (Version = 20, Flow ID = 2293)\n",
       "\tExternal Version         : R_3.2.3-b1752e05\n",
       "\tDependencies             : mlr_2.7, RWeka_0.4.24\n",
       "\tNumber of Flow Parameters: 16\n",
       "\tNumber of Flow Components: 0"
      ]
     },
     "metadata": {},
     "output_type": "display_data"
    }
   ],
   "source": [
    "flow = getOMLFlow(2293)\n",
    "flow"
   ]
  },
  {
   "cell_type": "raw",
   "metadata": {},
   "source": [
    "remote.run = getOMLRun(run.id = 515076, verbosity = 2)\n",
    "print(remote.run)"
   ]
  },
  {
   "cell_type": "code",
   "execution_count": 14,
   "metadata": {
    "collapsed": false
   },
   "outputs": [
    {
     "ename": "ERROR",
     "evalue": "Error in checkClass(x, classes, ordered): object 'remote.run' not found\n",
     "output_type": "error",
     "traceback": [
      "Error in checkClass(x, classes, ordered): object 'remote.run' not found\nTraceback:\n",
      "1. runTaskFlow(task = task, flow = flow, par.list = getOMLRunParList(remote.run), \n .     verbosity = 2)",
      "2. assert(checkList(par.list), checkClass(par.list, \"OMLRunParList\"))",
      "3. eval(dots[[i]], envir = env)",
      "4. eval(expr, envir, enclos)",
      "5. checkList(par.list)",
      "6. .Call(c_check_list, x, any.missing, all.missing, len, min.len, \n .     max.len, unique, names, null.ok) %and% checkListTypes(x, \n .     types)",
      "7. getOMLRunParList(remote.run)",
      "8. assertClass(run, \"OMLRun\")",
      "9. checkClass(x, classes, ordered)"
     ]
    }
   ],
   "source": [
    "run = runTaskFlow(task = task, flow = flow, par.list = getOMLRunParList(remote.run), verbosity = 2)"
   ]
  },
  {
   "cell_type": "code",
   "execution_count": 12,
   "metadata": {
    "collapsed": true
   },
   "outputs": [],
   "source": [
    "run2 = runTaskMlr(task = task, learner = makeLearner(\"classif.svm\"))"
   ]
  },
  {
   "cell_type": "code",
   "execution_count": 13,
   "metadata": {
    "collapsed": false
   },
   "outputs": [
    {
     "data": {
      "text/plain": [
       "$run\n",
       "\n",
       "OpenML Run NA :: (Task ID = 59, Flow ID = NA)\n",
       "\n",
       "$bmr\n",
       "  task.id  learner.id acc.test.mean timetrain.test.sum timepredict.test.sum\n",
       "1    iris classif.svm     0.9666667              0.063                0.014\n",
       "\n",
       "$flow\n",
       "\n",
       "Flow \"mlr.classif.svm\" :: (Version = NA, Flow ID = NA)\n",
       "\tExternal Version         : R_3.3.0-v2.e5efec96\n",
       "\tDependencies             : R_3.3.0, OpenML_1.0, mlr_2.9, e1071_1.6.7\n",
       "\tNumber of Flow Parameters: 17\n",
       "\tNumber of Flow Components: 0\n",
       "\n",
       "attr(,\"class\")\n",
       "[1] \"OMLMlrRun\""
      ]
     },
     "metadata": {},
     "output_type": "display_data"
    }
   ],
   "source": [
    "run2\n"
   ]
  },
  {
   "cell_type": "code",
   "execution_count": null,
   "metadata": {
    "collapsed": true
   },
   "outputs": [],
   "source": []
  }
 ],
 "metadata": {
  "kernelspec": {
   "display_name": "R",
   "language": "R",
   "name": "ir"
  },
  "language_info": {
   "codemirror_mode": "r",
   "file_extension": ".r",
   "mimetype": "text/x-r-source",
   "name": "R",
   "pygments_lexer": "r",
   "version": "3.3.0"
  }
 },
 "nbformat": 4,
 "nbformat_minor": 1
}
